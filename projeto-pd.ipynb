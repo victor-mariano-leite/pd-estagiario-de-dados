{
 "cells": [
  {
   "cell_type": "code",
   "execution_count": 1,
   "metadata": {},
   "outputs": [],
   "source": [
    "from sklearn.base import TransformerMixin\n",
    "from sklearn.preprocessing import Imputer\n",
    "import seaborn as sns\n",
    "import matplotlib.pyplot as plt\n",
    "import pandas as pd\n",
    "import numpy as np\n",
    "import sklearn\n",
    "import matplotlib\n",
    "import time\n",
    "import json\n",
    "\n",
    "%matplotlib inline"
   ]
  },
  {
   "cell_type": "code",
   "execution_count": 2,
   "metadata": {},
   "outputs": [],
   "source": [
    "class DataFrameImputer(TransformerMixin):\n",
    "\n",
    "    def __init__(self):\n",
    "        \"\"\"Impute missing values.\n",
    "\n",
    "        Columns of dtype object are imputed with the most frequent value \n",
    "        in column.\n",
    "\n",
    "        Columns of other types are imputed with mean of column.\n",
    "\n",
    "        \"\"\"\n",
    "    def fit(self, X, y=None):\n",
    "\n",
    "        self.fill = pd.Series([X[c].value_counts().index[0]\n",
    "            if X[c].dtype == np.dtype('O') else X[c].mean() for c in X],\n",
    "            index=X.columns)\n",
    "\n",
    "        return self\n",
    "\n",
    "    def transform(self, X, y=None):\n",
    "        return X.fillna(self.fill)"
   ]
  },
  {
   "cell_type": "code",
   "execution_count": 3,
   "metadata": {},
   "outputs": [],
   "source": [
    "df_courses = pd.read_json('/Users/vml/estagiario_pd/datasets/courses.json', orient='records')\n",
    "df_sessions = pd.read_json('/Users/vml/estagiario_pd/datasets/sessions.json', orient='records')\n",
    "df_sfs = pd.read_json('/Users/vml/estagiario_pd/datasets/student_follow_subject.json', orient='records')\n",
    "df_students = pd.read_json('/Users/vml/estagiario_pd/datasets/students.json', orient='records')\n",
    "df_subjects = pd.read_json('/Users/vml/estagiario_pd/datasets/subjects.json', orient='records')\n",
    "df_subscriptions = pd.read_json('/Users/vml/estagiario_pd/datasets/subscriptions.json', orient='records')\n",
    "df_universities = pd.read_json('/Users/vml/estagiario_pd/datasets/universities.json', orient='records')"
   ]
  },
  {
   "cell_type": "code",
   "execution_count": 4,
   "metadata": {},
   "outputs": [],
   "source": [
    "df_students = df_students[['Id', 'CourseId', 'UniversityId', 'State', 'City', 'RegisteredDate', 'StudentClient', 'SignupSource']]\n",
    "df_sfs = df_sfs[['StudentId', 'SubjectId', 'FollowDate']]\n",
    "df_subscriptions = df_subscriptions[['StudentId', 'PlanType', 'PaymentDate']]\n",
    "df_sessions = df_sessions[['StudentId', 'SessionStartTime', 'StudentClient']]"
   ]
  },
  {
   "cell_type": "code",
   "execution_count": 5,
   "metadata": {},
   "outputs": [],
   "source": [
    "def create_id_to_name():\n",
    "    for name in (\"subjects\",\"courses\",\"universities\"):\n",
    "        LOC = f\"\"\"\n",
    "global change_id_to_name_{name}\n",
    "change_id_to_name_{name} = df_{name}.set_index('Id').to_dict()['Name']\n",
    "\"\"\"\n",
    "        exec(LOC)\n",
    "\n",
    "def replace_all_id_to_name():\n",
    "    for name in (\"subjects\",\"courses\",\"universities\"):\n",
    "        if name == \"subjects\":\n",
    "            df_sfs.SubjectId.replace(change_id_to_name_subjects, inplace = True)\n",
    "        elif name == \"courses\":\n",
    "            df_students.CourseId.replace(change_id_to_name_courses, inplace = True)\n",
    "        elif name == \"universities\":\n",
    "            df_students.UniversityId.replace(change_id_to_name_universities,inplace = True)\n",
    "\n",
    "def time_tuple_conversion(df):\n",
    "    # para análise de séries temporais\n",
    "    for date in (\"RegisteredDate\", \"PaymentDate\", \"FollowDate\", \"SessionStartTime\"):\n",
    "        try:\n",
    "            if date in df.columns:\n",
    "                df[date] = df[date].apply(lambda x: x[:19]).apply(time.strptime, args=[\"%Y-%m-%d %H:%M:%S\"]).apply(lambda x: x[:6])\n",
    "        except:\n",
    "            print(f\"Provavelmente já foi convertida a coluna {date}\")\n",
    "            pass\n",
    "            \n",
    "            \n",
    "create_id_to_name()\n",
    "replace_all_id_to_name()"
   ]
  },
  {
   "cell_type": "code",
   "execution_count": null,
   "metadata": {},
   "outputs": [],
   "source": [
    "# explicar aqui como usei o simple imputer alterado pra fazer imputacao de \n",
    "\n",
    "dados_pra_imputar_1 = df_students[[\"CourseId\",\"UniversityId\",\"State\"]]\n",
    "dados_pra_imputar_2 = df_students[[\"CourseId\",\"UniversityId\",\"City\"]]\n",
    "\n",
    "df_students[[\"City\",\"State\",\"UniversityId\"]].groupby([\"UniversityId\"]).count().sort_values(by=[\"City\", \"State\"], ascending = False).head(150)\n",
    "quantos_uni = df_students[[\"City\",\"State\",\"UniversityId\"]].groupby([\"UniversityId\"]).count().sort_values(by=[\"City\", \"State\"], ascending = False).head(150).index.values\n",
    "top200_universidades = df_students.UniversityId.value_counts().head(200)\n",
    "top200_universidades = tuple(top200_universidades.index.values)\n",
    "\n",
    "def imputando_dados_faltantes():\n",
    "    for nome in top200_universidades:\n",
    "        try:\n",
    "            dados_pra_imputar_1[dados_pra_imputar_1[\"UniversityId\"]==nome] = DataFrameImputer().fit_transform(dados_pra_imputar_1[dados_pra_imputar_1[\"UniversityId\"]==nome])\n",
    "            dados_pra_imputar_2[dados_pra_imputar_2[\"UniversityId\"]==nome] = DataFrameImputer().fit_transform(dados_pra_imputar_2[dados_pra_imputar_2[\"UniversityId\"]==nome])\n",
    "        except:\n",
    "            print(\"nao foi\")\n",
    "            pass\n",
    "        \n",
    "imputando_dados_faltantes()\n",
    "df_students[[\"CourseId\", \"UniversityId\", \"State\"]] = dados_pra_imputar_1\n",
    "df_students[[\"CourseId\", \"UniversityId\", \"City\"]] = dados_pra_imputar_2\n",
    "\n",
    "df_students.info()"
   ]
  },
  {
   "cell_type": "code",
   "execution_count": 15,
   "metadata": {},
   "outputs": [],
   "source": [
    "# pode ser conveniente montar um classificador de palavras aleatorias em portugues,\n",
    "# pra avaliar ddaddos no BD que são irrelevantes ou desconsiderar, ou contar quantas pessoas usam essas palavras\n",
    "# avaliar se sao mesmo aleatoria"
   ]
  },
  {
   "cell_type": "code",
   "execution_count": 5,
   "metadata": {},
   "outputs": [],
   "source": [
    "# descrever no jupyter todos esses databases montados, o por que de cada um e por que separados, o por que ordenei as colunas de cada forma, como pode ajudar a visualizar os dados;\n",
    "# também ver quais colunas tirar no final da análise\n",
    "\n",
    "students_subjects = df_sfs.rename(columns = {\"StudentId\":\"Id\"}).merge(df_students, on= [\"Id\"]).rename(\n",
    "    columns = {\"Id\":\"StudentId\", \"SubjectId\":\"SubjectName\", \"CourseId\": \"CourseName\",\n",
    "               \"UniversityId\":\"UniversityName\" })[\n",
    "['StudentId', 'CourseName', 'UniversityName', 'RegisteredDate', 'State', 'City', 'SubjectName', 'FollowDate', 'StudentClient', 'SignupSource']];\n",
    "\n",
    "students_subjects_subscriptions = df_sfs.rename(columns = {\"StudentId\":\"Id\"}).merge(df_students, on= [\"Id\"]).rename(\n",
    "    columns = {\"Id\":\"StudentId\", \"SubjectId\":\"SubjectName\", \"CourseId\": \"CourseName\",\n",
    "               \"UniversityId\":\"UniversityName\" })[\n",
    "['StudentId', 'CourseName', 'UniversityName', 'RegisteredDate', 'State', 'City', 'SubjectName', 'FollowDate', 'StudentClient', 'SignupSource']].merge(df_subscriptions, on = [\"StudentId\"]);\n",
    "\n",
    "students_sessions = df_sessions.rename(columns = {\"StudentId\":\"Id\"}).merge(df_students, on = [\"Id\"]).rename(\n",
    "    columns = {\"Id\":\"StudentId\",\"CourseId\":\"CourseName\",\"UniversityId\":\"UniversityName\"})[['StudentId','CourseName','UniversityName','SessionStartTime','StudentClient_x','StudentClient_y','State','City','RegisteredDate','SignupSource']];\n",
    "\n",
    "sessions_subscriptions = df_sessions.merge(df_subscriptions, on= [\"StudentId\"])[['StudentId','SessionStartTime','StudentClient','PaymentDate', 'PlanType']];\n",
    "\n",
    "students_subscriptions = df_subscriptions.rename(columns = {\"StudentId\":\"Id\"}).merge(df_students, on= [\"Id\"]).rename(\n",
    "    columns = {\"Id\":\"StudentId\", \"CourseId\": \"CourseName\",\n",
    "               \"UniversityId\":\"UniversityName\" })[['StudentId', 'UniversityName', 'CourseName', 'PlanType', 'PaymentDate', 'State', 'City', 'RegisteredDate', 'SignupSource', 'StudentClient']];"
   ]
  },
  {
   "cell_type": "code",
   "execution_count": 6,
   "metadata": {},
   "outputs": [],
   "source": [
    "# tá demorando bem eim...\n",
    "for database in (students_subjects, students_subjects_subscriptions, students_sessions, sessions_subscriptions, students_subscriptions):\n",
    "    time_tuple_conversion(database)"
   ]
  },
  {
   "cell_type": "code",
   "execution_count": 6,
   "metadata": {},
   "outputs": [
    {
     "data": {
      "text/plain": [
       "Facebook    30346\n",
       "Google      19312\n",
       "Email       10342\n",
       "Name: SignupSource, dtype: int64"
      ]
     },
     "execution_count": 6,
     "metadata": {},
     "output_type": "execute_result"
    }
   ],
   "source": [
    "df_students.SignupSource.value_counts() # da pra fazer um histograma aqui"
   ]
  },
  {
   "cell_type": "code",
   "execution_count": 7,
   "metadata": {},
   "outputs": [
    {
     "data": {
      "text/plain": [
       "Website                     38415\n",
       "Webapp                       3214\n",
       "Android | 6.0.1 | sdk 23     2137\n",
       "Android | 7.0 | sdk 24       1059\n",
       "Android | 6.0 | sdk 23       1045\n",
       "Android | 5.1.1 | sdk 22      646\n",
       "Android | 4.4.4 | sdk 19      434\n",
       "Name: StudentClient, dtype: int64"
      ]
     },
     "execution_count": 7,
     "metadata": {},
     "output_type": "execute_result"
    }
   ],
   "source": [
    "df_students.StudentClient.value_counts().head(7)"
   ]
  },
  {
   "cell_type": "code",
   "execution_count": 8,
   "metadata": {},
   "outputs": [
    {
     "data": {
      "text/plain": [
       "ESTÁCIO        9030\n",
       "UNIP           4426\n",
       "UNOPAR         1857\n",
       "UNINTER        1856\n",
       "ESTÁCIO EAD    1478\n",
       "Name: UniversityId, dtype: int64"
      ]
     },
     "execution_count": 8,
     "metadata": {},
     "output_type": "execute_result"
    }
   ],
   "source": [
    "df_students.UniversityId.value_counts().head(5)"
   ]
  },
  {
   "cell_type": "code",
   "execution_count": 9,
   "metadata": {},
   "outputs": [
    {
     "data": {
      "text/plain": [
       "Direito                               9916\n",
       "Administração                         4168\n",
       "Engenharia Civil                      3562\n",
       "Contabilidade / Ciências Contábeis    2714\n",
       "Pedagogia                             2566\n",
       "Name: CourseId, dtype: int64"
      ]
     },
     "execution_count": 9,
     "metadata": {},
     "output_type": "execute_result"
    }
   ],
   "source": [
    "df_students.CourseId.value_counts().head(5)"
   ]
  },
  {
   "cell_type": "code",
   "execution_count": 10,
   "metadata": {},
   "outputs": [
    {
     "data": {
      "text/html": [
       "<div>\n",
       "<style scoped>\n",
       "    .dataframe tbody tr th:only-of-type {\n",
       "        vertical-align: middle;\n",
       "    }\n",
       "\n",
       "    .dataframe tbody tr th {\n",
       "        vertical-align: top;\n",
       "    }\n",
       "\n",
       "    .dataframe thead th {\n",
       "        text-align: right;\n",
       "    }\n",
       "</style>\n",
       "<table border=\"1\" class=\"dataframe\">\n",
       "  <thead>\n",
       "    <tr style=\"text-align: right;\">\n",
       "      <th></th>\n",
       "      <th>StudentId</th>\n",
       "      <th>PlanType</th>\n",
       "      <th>PaymentDate</th>\n",
       "    </tr>\n",
       "  </thead>\n",
       "  <tbody>\n",
       "    <tr>\n",
       "      <th>0</th>\n",
       "      <td>29037b0a52c5b576d32ac5842fd5b7e5991c5bef93150f...</td>\n",
       "      <td>Mensal</td>\n",
       "      <td>2017-11-14 19:52:36.756325</td>\n",
       "    </tr>\n",
       "    <tr>\n",
       "      <th>1</th>\n",
       "      <td>b2bace77d15c3dfaf57bf9916f0e9924d12f89bdc0624c...</td>\n",
       "      <td>Mensal</td>\n",
       "      <td>2017-11-08 11:52:09.830538</td>\n",
       "    </tr>\n",
       "    <tr>\n",
       "      <th>2</th>\n",
       "      <td>f423d6fe2f8964db634c7806e03b0f6567e992e994f06f...</td>\n",
       "      <td>Mensal</td>\n",
       "      <td>2017-11-05 21:27:47.793878</td>\n",
       "    </tr>\n",
       "    <tr>\n",
       "      <th>3</th>\n",
       "      <td>55ccbe518d2edbbd527eddca1431c7f7f3a4676bdbee38...</td>\n",
       "      <td>Mensal</td>\n",
       "      <td>2017-11-15 14:36:42.348867</td>\n",
       "    </tr>\n",
       "    <tr>\n",
       "      <th>4</th>\n",
       "      <td>b1b0f63fe3e4820cb082531af7c8911cd380e5ec8fe822...</td>\n",
       "      <td>Mensal</td>\n",
       "      <td>2017-11-12 22:19:54.575387</td>\n",
       "    </tr>\n",
       "    <tr>\n",
       "      <th>5</th>\n",
       "      <td>ed46832f6b716fb2e2f6f11b43965f2e0a3f2f8f8994ce...</td>\n",
       "      <td>Mensal</td>\n",
       "      <td>2017-11-22 01:03:09.059587</td>\n",
       "    </tr>\n",
       "    <tr>\n",
       "      <th>6</th>\n",
       "      <td>69b7bee32821cf76b9ffd5deffca1a01c95499cea24a45...</td>\n",
       "      <td>Mensal</td>\n",
       "      <td>2017-11-24 19:03:49.902349</td>\n",
       "    </tr>\n",
       "    <tr>\n",
       "      <th>7</th>\n",
       "      <td>6553923125fe6364e16aacf5656426809bb134b005f182...</td>\n",
       "      <td>Mensal</td>\n",
       "      <td>2017-11-11 21:01:59.149344</td>\n",
       "    </tr>\n",
       "    <tr>\n",
       "      <th>8</th>\n",
       "      <td>3903a334d1af8ce838bc2b7f497f11c40437573c1ad30b...</td>\n",
       "      <td>Mensal</td>\n",
       "      <td>2017-11-12 16:41:19.995949</td>\n",
       "    </tr>\n",
       "    <tr>\n",
       "      <th>9</th>\n",
       "      <td>4487f81a4ea9b3c3cf58aa31ecc21c30d6fb186993af61...</td>\n",
       "      <td>Mensal</td>\n",
       "      <td>2017-11-21 11:52:55.082745</td>\n",
       "    </tr>\n",
       "  </tbody>\n",
       "</table>\n",
       "</div>"
      ],
      "text/plain": [
       "                                           StudentId PlanType  \\\n",
       "0  29037b0a52c5b576d32ac5842fd5b7e5991c5bef93150f...   Mensal   \n",
       "1  b2bace77d15c3dfaf57bf9916f0e9924d12f89bdc0624c...   Mensal   \n",
       "2  f423d6fe2f8964db634c7806e03b0f6567e992e994f06f...   Mensal   \n",
       "3  55ccbe518d2edbbd527eddca1431c7f7f3a4676bdbee38...   Mensal   \n",
       "4  b1b0f63fe3e4820cb082531af7c8911cd380e5ec8fe822...   Mensal   \n",
       "5  ed46832f6b716fb2e2f6f11b43965f2e0a3f2f8f8994ce...   Mensal   \n",
       "6  69b7bee32821cf76b9ffd5deffca1a01c95499cea24a45...   Mensal   \n",
       "7  6553923125fe6364e16aacf5656426809bb134b005f182...   Mensal   \n",
       "8  3903a334d1af8ce838bc2b7f497f11c40437573c1ad30b...   Mensal   \n",
       "9  4487f81a4ea9b3c3cf58aa31ecc21c30d6fb186993af61...   Mensal   \n",
       "\n",
       "                  PaymentDate  \n",
       "0  2017-11-14 19:52:36.756325  \n",
       "1  2017-11-08 11:52:09.830538  \n",
       "2  2017-11-05 21:27:47.793878  \n",
       "3  2017-11-15 14:36:42.348867  \n",
       "4  2017-11-12 22:19:54.575387  \n",
       "5  2017-11-22 01:03:09.059587  \n",
       "6  2017-11-24 19:03:49.902349  \n",
       "7  2017-11-11 21:01:59.149344  \n",
       "8  2017-11-12 16:41:19.995949  \n",
       "9  2017-11-21 11:52:55.082745  "
      ]
     },
     "execution_count": 10,
     "metadata": {},
     "output_type": "execute_result"
    }
   ],
   "source": [
    "df_subscriptions.head(10)"
   ]
  },
  {
   "cell_type": "code",
   "execution_count": 11,
   "metadata": {},
   "outputs": [],
   "source": [
    "list_of_datetimes_register = list(df_students.RegisteredDate.values);"
   ]
  },
  {
   "cell_type": "code",
   "execution_count": 12,
   "metadata": {},
   "outputs": [
    {
     "name": "stdout",
     "output_type": "stream",
     "text": [
      "Rio de Janeiro    2415\n",
      "São Paulo         1089\n",
      "Salvador           667\n",
      "Belo Horizonte     552\n",
      "Fortaleza          488\n",
      "Curitiba           433\n",
      "Recife             431\n",
      "Goiânia            396\n",
      "Brasília           287\n",
      "São Luís           280\n",
      "Name: City, dtype: int64 \n",
      "\n",
      "Rio de Janeiro       5168\n",
      "São Paulo            3870\n",
      "Minas Gerais         2417\n",
      "Paraná               1438\n",
      "Bahia                1354\n",
      "Ceará                1236\n",
      "Rio Grande do Sul    1192\n",
      "Pernambuco            954\n",
      "Santa Catarina        876\n",
      "Goiás                 815\n",
      "Name: State, dtype: int64\n"
     ]
    }
   ],
   "source": [
    "print(df_students.City.value_counts().head(10),\"\\n\")\n",
    "print(df_students.State.value_counts().head(10))"
   ]
  },
  {
   "cell_type": "code",
   "execution_count": 13,
   "metadata": {},
   "outputs": [],
   "source": [
    "for i in list_of_datetimes_register:\n",
    "    list_of_datetimes_register[list_of_datetimes_register.index(i)] = i[:19]"
   ]
  },
  {
   "cell_type": "code",
   "execution_count": null,
   "metadata": {},
   "outputs": [],
   "source": [
    "dates = matplotlib.dates.date2num(list_of_datetimes_register);\n",
    "matplotlib.pyplot.plot_date(dates, values);"
   ]
  },
  {
   "cell_type": "code",
   "execution_count": 14,
   "metadata": {},
   "outputs": [
    {
     "data": {
      "text/plain": [
       "Bioquímica                4223\n",
       "Cálculo I                 4053\n",
       "Anatomia Humana           3950\n",
       "Direito Constitucional    3926\n",
       "Matemática Financeira     3405\n",
       "Name: SubjectId, dtype: int64"
      ]
     },
     "execution_count": 14,
     "metadata": {},
     "output_type": "execute_result"
    }
   ],
   "source": [
    "df_sfs.SubjectId.value_counts().head(5)"
   ]
  },
  {
   "cell_type": "code",
   "execution_count": 413,
   "metadata": {},
   "outputs": [
    {
     "data": {
      "text/plain": [
       "ESTÁCIO                 9030\n",
       "UNIP                    4426\n",
       "UNOPAR                  1857\n",
       "UNINTER                 1856\n",
       "ESTÁCIO EAD             1478\n",
       "Anhanguera               674\n",
       "UNIDERP - ANHANGUERA     622\n",
       "PITÁGORAS                575\n",
       "USP-SP                   550\n",
       "UFRJ                     526\n",
       "UNINOVE                  503\n",
       "UNB                      477\n",
       "UNIVERSO                 430\n",
       "UFMG                     406\n",
       "PUC-MINAS                399\n",
       "UFF                      368\n",
       "UFPE                     362\n",
       "UNESP                    338\n",
       "UFBA                     307\n",
       "ANHANGUERA               301\n",
       "UVA                      298\n",
       "UNIASSELVI               298\n",
       "UFC                      294\n",
       "UTFPR                    292\n",
       "UFPR                     284\n",
       "UFSC                     277\n",
       "ULBRA                    274\n",
       "UFRGS                    270\n",
       "UFPI                     250\n",
       "FMU                      249\n",
       "                        ... \n",
       "PORTAL                     1\n",
       "IST                        1\n",
       "FADFESPSP                  1\n",
       "GRANTIETE                  1\n",
       "SEI/FAI                    1\n",
       "FNB                        1\n",
       "SESPA                      1\n",
       "FAPPES                     1\n",
       "IETEC                      1\n",
       "FMCG                       1\n",
       "FAVED                      1\n",
       "FAFOPST                    1\n",
       "FETAC                      1\n",
       "ESUP                       1\n",
       "INEC                       1\n",
       "FFSD                       1\n",
       "FISE                       1\n",
       "FANEB                      1\n",
       "FJF                        1\n",
       "FASVIPA                    1\n",
       "FACEDUTS                   1\n",
       "IEDA                       1\n",
       "FBNCTSB                    1\n",
       "FACILUZ                    1\n",
       "HORUS                      1\n",
       "FABES                      1\n",
       "FACITE                     1\n",
       "FACESA                     1\n",
       "FACEBG                     1\n",
       "FCNSV                      1\n",
       "Name: UniversityId, Length: 1649, dtype: int64"
      ]
     },
     "execution_count": 413,
     "metadata": {},
     "output_type": "execute_result"
    }
   ],
   "source": [
    "df_students.UniversityId.value_counts()"
   ]
  },
  {
   "cell_type": "code",
   "execution_count": 6,
   "metadata": {},
   "outputs": [],
   "source": [
    "df_students[[\"City\",\"State\",\"UniversityId\"]].groupby([\"UniversityId\"]).count().sort_values(by=[\"City\", \"State\"], ascending = False).head(150)\n",
    "quantos_uni = df_students[[\"City\",\"State\",\"UniversityId\"]].groupby([\"UniversityId\"]).count().sort_values(by=[\"City\", \"State\"], ascending = False).head(150).index.values\n",
    "top200_universidades = df_students.UniversityId.value_counts().head(200)\n",
    "top200_universidades = tuple(top200_universidades.index.values)"
   ]
  },
  {
   "cell_type": "code",
   "execution_count": 24,
   "metadata": {},
   "outputs": [],
   "source": [
    "top500_universidades = df_students.UniversityId.value_counts().head(500)\n",
    "top500_universidades = tuple(top500_universidades.index.values)"
   ]
  },
  {
   "cell_type": "code",
   "execution_count": 26,
   "metadata": {},
   "outputs": [],
   "source": [
    "top500_universidades = tuple(top500_universidades.index.values)"
   ]
  },
  {
   "cell_type": "code",
   "execution_count": null,
   "metadata": {},
   "outputs": [],
   "source": [
    "top"
   ]
  }
 ],
 "metadata": {
  "kernelspec": {
   "display_name": "Python 3",
   "language": "python",
   "name": "python3"
  },
  "language_info": {
   "codemirror_mode": {
    "name": "ipython",
    "version": 3
   },
   "file_extension": ".py",
   "mimetype": "text/x-python",
   "name": "python",
   "nbconvert_exporter": "python",
   "pygments_lexer": "ipython3",
   "version": "3.7.3"
  }
 },
 "nbformat": 4,
 "nbformat_minor": 4
}
